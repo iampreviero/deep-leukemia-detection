{
  "nbformat": 4,
  "nbformat_minor": 0,
  "metadata": {
    "colab": {
      "name": "Clustering_Autoencoder_2.ipynb",
      "provenance": [],
      "collapsed_sections": [
        "L4_slPVkHE-O",
        "UNnknF9IHDe2"
      ],
      "machine_shape": "hm"
    },
    "kernelspec": {
      "name": "python3",
      "display_name": "Python 3"
    }
  },
  "cells": [
    {
      "cell_type": "markdown",
      "metadata": {
        "id": "L4_slPVkHE-O",
        "colab_type": "text"
      },
      "source": [
        "# Load Libaries"
      ]
    },
    {
      "cell_type": "code",
      "metadata": {
        "id": "JsPZNQtUF4os",
        "colab_type": "code",
        "colab": {}
      },
      "source": [
        "# plotting utilities\n",
        "import seaborn as sns\n",
        "import matplotlib.pyplot as plt\n",
        "\n",
        "# tensorflow\n",
        "import tensorflow as tf\n",
        "import tensorflow.keras as K\n",
        "\n",
        "# data-science & processing tools\n",
        "import numpy as np\n",
        "import pandas as pd\n",
        "\n",
        "import sklearn as sk\n",
        "from sklearn.cluster import KMeans\n",
        "\n",
        "import functools\n",
        "import os\n",
        "import platform\n",
        "import random\n",
        "import shutil\n",
        "import sys\n",
        "import datetime"
      ],
      "execution_count": 0,
      "outputs": []
    },
    {
      "cell_type": "markdown",
      "metadata": {
        "id": "UNnknF9IHDe2",
        "colab_type": "text"
      },
      "source": [
        "# Load Data"
      ]
    },
    {
      "cell_type": "code",
      "metadata": {
        "id": "erfxbKLCGEEZ",
        "colab_type": "code",
        "outputId": "b19df8d4-5d3e-4ab4-ba0f-0eb713a8ab80",
        "colab": {
          "base_uri": "https://localhost:8080/",
          "height": 35
        }
      },
      "source": [
        "from google.colab import drive\n",
        "drive.mount('/content/drive')\n",
        "\n",
        "my_data_dir = '/content/drive/My Drive/6874_FinalProject/latent_representation/'"
      ],
      "execution_count": 0,
      "outputs": [
        {
          "output_type": "stream",
          "text": [
            "Drive already mounted at /content/drive; to attempt to forcibly remount, call drive.mount(\"/content/drive\", force_remount=True).\n"
          ],
          "name": "stdout"
        }
      ]
    },
    {
      "cell_type": "code",
      "metadata": {
        "id": "L4jmqf4OGF2u",
        "colab_type": "code",
        "outputId": "b645f610-8cfc-452b-d0f6-ad0a5b77fcfd",
        "colab": {
          "base_uri": "https://localhost:8080/",
          "height": 54
        }
      },
      "source": [
        "X = np.loadtxt(my_data_dir + 'bw_smalllatent_train.txt')\n",
        "X_test = np.loadtxt(my_data_dir + 'bw_smalllatent_test.txt')\n",
        "class_label = np.loadtxt(my_data_dir + 'bw_smally_train.txt')\n",
        "class_label_test = np.loadtxt(my_data_dir + 'bw_smally_test.txt')\n",
        "\n",
        "X = np.append(X, X_test, axis=0)\n",
        "class_label = np.append(class_label, class_label_test, axis=0)\n",
        "\n",
        "print(str(X.shape) + 'gene expression matrix shape')\n",
        "print(str(class_label.shape) + 'class labels shape')"
      ],
      "execution_count": 0,
      "outputs": [
        {
          "output_type": "stream",
          "text": [
            "(18287, 676)gene expression matrix shape\n",
            "(18287,)class labels shape\n"
          ],
          "name": "stdout"
        }
      ]
    },
    {
      "cell_type": "markdown",
      "metadata": {
        "id": "V-bXsIFTHLf1",
        "colab_type": "text"
      },
      "source": [
        "# Clustering Autoencoder 2"
      ]
    },
    {
      "cell_type": "code",
      "metadata": {
        "id": "CoLhjp9YGZHQ",
        "colab_type": "code",
        "outputId": "6dfa1e46-92f5-4a23-f0cf-965da3ff22ac",
        "colab": {
          "base_uri": "https://localhost:8080/",
          "height": 568
        }
      },
      "source": [
        "Sum_of_squared_distances = []\n",
        "K = range(1,31)\n",
        "for k in K:\n",
        "    km = KMeans(n_clusters=k)\n",
        "    km = km.fit(X)\n",
        "    print(\"iteration {} done\".format(k))\n",
        "    Sum_of_squared_distances.append(km.inertia_)"
      ],
      "execution_count": 0,
      "outputs": [
        {
          "output_type": "stream",
          "text": [
            "iteration 1 done\n",
            "iteration 2 done\n",
            "iteration 3 done\n",
            "iteration 4 done\n",
            "iteration 5 done\n",
            "iteration 6 done\n",
            "iteration 7 done\n",
            "iteration 8 done\n",
            "iteration 9 done\n",
            "iteration 10 done\n",
            "iteration 11 done\n",
            "iteration 12 done\n",
            "iteration 13 done\n",
            "iteration 14 done\n",
            "iteration 15 done\n",
            "iteration 16 done\n",
            "iteration 17 done\n",
            "iteration 18 done\n",
            "iteration 19 done\n",
            "iteration 20 done\n",
            "iteration 21 done\n",
            "iteration 22 done\n",
            "iteration 23 done\n",
            "iteration 24 done\n",
            "iteration 25 done\n",
            "iteration 26 done\n",
            "iteration 27 done\n",
            "iteration 28 done\n",
            "iteration 29 done\n",
            "iteration 30 done\n"
          ],
          "name": "stdout"
        }
      ]
    },
    {
      "cell_type": "code",
      "metadata": {
        "id": "nMfplSE4Glyi",
        "colab_type": "code",
        "outputId": "6842523e-f777-437a-91cd-f3a6631567eb",
        "colab": {
          "base_uri": "https://localhost:8080/",
          "height": 295
        }
      },
      "source": [
        "plt.plot(K, Sum_of_squared_distances, 'bx-')\n",
        "plt.xlabel('k')\n",
        "plt.ylabel('Sum_of_squared_distances')\n",
        "plt.title('Elbow Method For Optimal k (Autoencoder 2)')\n",
        "plt.show()"
      ],
      "execution_count": 0,
      "outputs": [
        {
          "output_type": "display_data",
          "data": {
            "image/png": "[encoded data removed]",
            "text/plain": [
              "<Figure size 432x288 with 1 Axes>"
            ]
          },
          "metadata": {
            "tags": [],
            "needs_background": "light"
          }
        }
      ]
    },
    {
      "cell_type": "code",
      "metadata": {
        "id": "AQ92dK4qGqZI",
        "colab_type": "code",
        "colab": {}
      },
      "source": [
        "km = KMeans(n_clusters=15)\n",
        "km = km.fit(X)"
      ],
      "execution_count": 0,
      "outputs": []
    },
    {
      "cell_type": "code",
      "metadata": {
        "id": "hn_PNWMuNVtF",
        "colab_type": "code",
        "colab": {}
      },
      "source": [
        "test_crosstab = pd.crosstab(km.labels_, class_label, normalize='columns')"
      ],
      "execution_count": 0,
      "outputs": []
    },
    {
      "cell_type": "code",
      "metadata": {
        "id": "pqew7pfKgZgI",
        "colab_type": "code",
        "colab": {}
      },
      "source": [
        "test_crosstab.columns = test_crosstab.columns.rename('Cell Types')\n",
        "test_crosstab.index = test_crosstab.index.rename('Clusters')"
      ],
      "execution_count": 0,
      "outputs": []
    },
    {
      "cell_type": "code",
      "metadata": {
        "id": "8rKcwuobkdHb",
        "colab_type": "code",
        "colab": {}
      },
      "source": [
        "x_ticks = ['BAS', 'EBO',\t'EOS',\t'KSC',\t'LYA',\t'LYT',\t'MMZ',\t'MOB',\t'MON',\t'MYB',\t'MYO',\t'NGB',\t'NGS',\t'PMB',\t'PMO']"
      ],
      "execution_count": 0,
      "outputs": []
    },
    {
      "cell_type": "code",
      "metadata": {
        "id": "wUyL1gm6b8Gc",
        "colab_type": "code",
        "outputId": "698d66cf-c4c5-467f-9a7b-a260d8c97f18",
        "colab": {
          "base_uri": "https://localhost:8080/",
          "height": 311
        }
      },
      "source": [
        "sns.heatmap(test_crosstab, annot=False, xticklabels=x_ticks, yticklabels=False)"
      ],
      "execution_count": 0,
      "outputs": [
        {
          "output_type": "execute_result",
          "data": {
            "text/plain": [
              "<matplotlib.axes._subplots.AxesSubplot at 0x7ff723ec15f8>"
            ]
          },
          "metadata": {
            "tags": []
          },
          "execution_count": 41
        },
        {
          "output_type": "display_data",
          "data": {
            "image/png": "[encoded data removed]",
            "text/plain": [
              "<Figure size 432x288 with 2 Axes>"
            ]
          },
          "metadata": {
            "tags": [],
            "needs_background": "light"
          }
        }
      ]
    },
    {
      "cell_type": "markdown",
      "metadata": {
        "id": "mEFHENLgp7uM",
        "colab_type": "text"
      },
      "source": [
        "## Load Autoencoder 2 to Create Cluster Representatives"
      ]
    },
    {
      "cell_type": "code",
      "metadata": {
        "id": "36qk86VUNdZo",
        "colab_type": "code",
        "outputId": "23f511d9-36e8-45b8-ae56-a037621d7f18",
        "colab": {
          "base_uri": "https://localhost:8080/",
          "height": 54
        }
      },
      "source": [
        "# import Keras\n",
        "from keras.layers import Input, Dense, Conv2D, MaxPooling2D, UpSampling2D\n",
        "from keras.models import Model\n",
        "from keras import optimizers\n",
        "from keras import backend as K\n",
        "from keras.models import model_from_json\n",
        "json_file = open(\"/content/drive/My Drive/6874_FinalProject/autoencoder_small.json\", 'r')\n",
        "loaded_model_json = json_file.read()\n",
        "json_file.close()\n",
        "loaded_model = model_from_json(loaded_model_json)\n",
        "# load weights into new model\n",
        "loaded_model.load_weights(\"/content/drive/My Drive/6874_FinalProject/autoencoder_small.h5\")\n",
        "print(\"Loaded model from disk\")"
      ],
      "execution_count": 0,
      "outputs": [
        {
          "output_type": "stream",
          "text": [
            "Using TensorFlow backend.\n"
          ],
          "name": "stderr"
        },
        {
          "output_type": "stream",
          "text": [
            "Loaded model from disk\n"
          ],
          "name": "stdout"
        }
      ]
    },
    {
      "cell_type": "code",
      "metadata": {
        "id": "FsPjZ7f-qDU8",
        "colab_type": "code",
        "colab": {}
      },
      "source": [
        "encoded_input = Input(shape=(13, 13, 4))\n",
        "decode = loaded_model.layers[-9](encoded_input)\n",
        "decode = loaded_model.layers[-8](decode)\n",
        "decode = loaded_model.layers[-7](decode)\n",
        "decode = loaded_model.layers[-6](decode)\n",
        "decode = loaded_model.layers[-5](decode)\n",
        "decode = loaded_model.layers[-4](decode)\n",
        "decode = loaded_model.layers[-3](decode)\n",
        "decode = loaded_model.layers[-2](decode)\n",
        "decode = loaded_model.layers[-1](decode)\n",
        "\n",
        "autodecoder = Model(encoded_input, decode)"
      ],
      "execution_count": 0,
      "outputs": []
    },
    {
      "cell_type": "code",
      "metadata": {
        "id": "M7sStsShqM_E",
        "colab_type": "code",
        "outputId": "74c2363e-244b-4a2d-f7d7-154e5e7b6bc2",
        "colab": {
          "base_uri": "https://localhost:8080/",
          "height": 248
        }
      },
      "source": [
        "X_sub = tf.math.reduce_min(X[km.labels_ ==12,:], axis=0)\n",
        "X_resh = tf.reshape(X_sub, (1,13,13,4))\n",
        "X_encod = autodecoder.predict(X_resh, steps=1)\n",
        "X_encod = tf.squeeze(X_encod)\n",
        "plt.imshow(X_encod)\n",
        "plt.gray()\n",
        "plt.axis('off')\n",
        "plt.show()"
      ],
      "execution_count": 0,
      "outputs": [
        {
          "output_type": "display_data",
          "data": {
            "image/png": "[encoded data removed]",
            "text/plain": [
              "<Figure size 432x288 with 1 Axes>"
            ]
          },
          "metadata": {
            "tags": [],
            "needs_background": "light"
          }
        }
      ]
    },
    {
      "cell_type": "code",
      "metadata": {
        "id": "djTHQseMqSvD",
        "colab_type": "code",
        "outputId": "928cfb95-201e-46cd-bb54-119854565f5a",
        "colab": {
          "base_uri": "https://localhost:8080/",
          "height": 248
        }
      },
      "source": [
        "X_sub = tf.math.reduce_mean(X[km.labels_ ==12,:], axis=0)\n",
        "X_resh = tf.reshape(X_sub, (1,13,13,4))\n",
        "X_encod = autodecoder.predict(X_resh, steps=1)\n",
        "X_encod = tf.squeeze(X_encod)\n",
        "plt.imshow(X_encod)\n",
        "plt.gray()\n",
        "plt.axis('off')\n",
        "plt.show()"
      ],
      "execution_count": 0,
      "outputs": [
        {
          "output_type": "display_data",
          "data": {
            "image/png": "[encoded data removed]",
            "text/plain": [
              "<Figure size 432x288 with 1 Axes>"
            ]
          },
          "metadata": {
            "tags": [],
            "needs_background": "light"
          }
        }
      ]
    },
    {
      "cell_type": "markdown",
      "metadata": {
        "id": "N5HKcJH5wV_6",
        "colab_type": "text"
      },
      "source": [
        "# Splitting Into Binary Cell Categories\n",
        "## Typical vs Atypical Cell Types"
      ]
    },
    {
      "cell_type": "code",
      "metadata": {
        "id": "wp_j9P6CsTiH",
        "colab_type": "code",
        "colab": {}
      },
      "source": [
        "typical_atypical_label = class_label"
      ],
      "execution_count": 0,
      "outputs": []
    },
    {
      "cell_type": "code",
      "metadata": {
        "id": "Vm0GdC6FwmPL",
        "colab_type": "code",
        "colab": {}
      },
      "source": [
        "typical_atypical_label[np.isin(typical_atypical_label, [1,4,6,7,9,10,13,14])] = 1"
      ],
      "execution_count": 0,
      "outputs": []
    },
    {
      "cell_type": "code",
      "metadata": {
        "id": "qDjomzK_yYTF",
        "colab_type": "code",
        "colab": {}
      },
      "source": [
        "typical_atypical_label[typical_atypical_label != 1] = 0"
      ],
      "execution_count": 0,
      "outputs": []
    },
    {
      "cell_type": "code",
      "metadata": {
        "id": "KnOr1rQ0zbiD",
        "colab_type": "code",
        "colab": {}
      },
      "source": [
        "km2 = KMeans(n_clusters=2)\n",
        "km2 = km2.fit(X)"
      ],
      "execution_count": 0,
      "outputs": []
    },
    {
      "cell_type": "code",
      "metadata": {
        "id": "8Ok2F_euzJfy",
        "colab_type": "code",
        "colab": {}
      },
      "source": [
        "typ_atyp_cross = pd.crosstab(km2.labels_, typical_atypical_label, normalize='columns')\n",
        "typ_atyp_cross.columns = typ_atyp_cross.columns.rename('Cell Types')\n",
        "typ_atyp_cross.index = typ_atyp_cross.index.rename('Clusters')"
      ],
      "execution_count": 0,
      "outputs": []
    },
    {
      "cell_type": "code",
      "metadata": {
        "id": "ouIIAe3UzRpe",
        "colab_type": "code",
        "colab": {}
      },
      "source": [
        "x_ticks2 = ['typical', 'atypical']"
      ],
      "execution_count": 0,
      "outputs": []
    },
    {
      "cell_type": "code",
      "metadata": {
        "id": "n7HeNbAJ0LWN",
        "colab_type": "code",
        "outputId": "561dd62b-cf26-4bd4-c761-1ce11b34089e",
        "colab": {
          "base_uri": "https://localhost:8080/",
          "height": 143
        }
      },
      "source": [
        "typ_atyp_cross"
      ],
      "execution_count": 0,
      "outputs": [
        {
          "output_type": "execute_result",
          "data": {
            "text/html": [
              "<div>\n",
              "<style scoped>\n",
              "    .dataframe tbody tr th:only-of-type {\n",
              "        vertical-align: middle;\n",
              "    }\n",
              "\n",
              "    .dataframe tbody tr th {\n",
              "        vertical-align: top;\n",
              "    }\n",
              "\n",
              "    .dataframe thead th {\n",
              "        text-align: right;\n",
              "    }\n",
              "</style>\n",
              "<table border=\"1\" class=\"dataframe\">\n",
              "  <thead>\n",
              "    <tr style=\"text-align: right;\">\n",
              "      <th>Cell Types</th>\n",
              "      <th>0.0</th>\n",
              "      <th>1.0</th>\n",
              "    </tr>\n",
              "    <tr>\n",
              "      <th>Clusters</th>\n",
              "      <th></th>\n",
              "      <th></th>\n",
              "    </tr>\n",
              "  </thead>\n",
              "  <tbody>\n",
              "    <tr>\n",
              "      <th>0</th>\n",
              "      <td>0.451995</td>\n",
              "      <td>0.651927</td>\n",
              "    </tr>\n",
              "    <tr>\n",
              "      <th>1</th>\n",
              "      <td>0.548005</td>\n",
              "      <td>0.348073</td>\n",
              "    </tr>\n",
              "  </tbody>\n",
              "</table>\n",
              "</div>"
            ],
            "text/plain": [
              "Cell Types       0.0       1.0\n",
              "Clusters                      \n",
              "0           0.451995  0.651927\n",
              "1           0.548005  0.348073"
            ]
          },
          "metadata": {
            "tags": []
          },
          "execution_count": 104
        }
      ]
    }
  ]
}